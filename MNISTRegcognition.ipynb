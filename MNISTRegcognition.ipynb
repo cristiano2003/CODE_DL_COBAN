{
 "cells": [
  {
   "cell_type": "code",
   "execution_count": 1,
   "metadata": {
    "executionInfo": {
     "elapsed": 639,
     "status": "ok",
     "timestamp": 1684256033908,
     "user": {
      "displayName": "Nguyễn Trung Trực",
      "userId": "15396692032786421402"
     },
     "user_tz": -420
    },
    "id": "Ea0-YRL7wBF7"
   },
   "outputs": [
    {
     "name": "stderr",
     "output_type": "stream",
     "text": [
      "2023-05-17 00:26:47.840062: I tensorflow/core/platform/cpu_feature_guard.cc:182] This TensorFlow binary is optimized to use available CPU instructions in performance-critical operations.\n",
      "To enable the following instructions: AVX2 FMA, in other operations, rebuild TensorFlow with the appropriate compiler flags.\n"
     ]
    }
   ],
   "source": [
    "# thêm các thư viện cần thiết\n",
    "import numpy as np\n",
    "import matplotlib.pyplot as plt\n",
    "from keras.models import Sequential\n",
    "from keras.layers import Dense, Dropout, Activation, Flatten\n",
    "from keras.layers import Conv2D, MaxPooling2D\n",
    "from keras.utils import np_utils\n",
    "from keras.datasets import mnist"
   ]
  },
  {
   "cell_type": "code",
   "execution_count": 2,
   "metadata": {
    "executionInfo": {
     "elapsed": 6,
     "status": "ok",
     "timestamp": 1684256034517,
     "user": {
      "displayName": "Nguyễn Trung Trực",
      "userId": "15396692032786421402"
     },
     "user_tz": -420
    },
    "id": "I-r9dY461pJW"
   },
   "outputs": [
    {
     "name": "stdout",
     "output_type": "stream",
     "text": [
      "Downloading data from https://storage.googleapis.com/tensorflow/tf-keras-datasets/mnist.npz\n",
      "11490434/11490434 [==============================] - 2s 0us/step\n"
     ]
    }
   ],
   "source": [
    "# # Load dữ liệu MNIST\n",
    "(X_train, y_train), (X_test, y_test) = mnist.load_data()\n",
    "X_val, y_val = X_train[50000:60000,:], y_train[50000:60000]\n",
    "X_train, y_train = X_train[:50000, :], y_train[:50000]"
   ]
  },
  {
   "cell_type": "code",
   "execution_count": 3,
   "metadata": {
    "colab": {
     "base_uri": "https://localhost:8080/"
    },
    "executionInfo": {
     "elapsed": 6,
     "status": "ok",
     "timestamp": 1684256034517,
     "user": {
      "displayName": "Nguyễn Trung Trực",
      "userId": "15396692032786421402"
     },
     "user_tz": -420
    },
    "id": "OnUSz0YT3YqK",
    "outputId": "c8bb563a-ca84-41ed-fc4d-0fcd0bcf9226"
   },
   "outputs": [
    {
     "data": {
      "text/plain": [
       "(50000, 28, 28)"
      ]
     },
     "execution_count": 3,
     "metadata": {},
     "output_type": "execute_result"
    }
   ],
   "source": [
    "X_train.shape"
   ]
  },
  {
   "cell_type": "code",
   "execution_count": 4,
   "metadata": {
    "executionInfo": {
     "elapsed": 5,
     "status": "ok",
     "timestamp": 1684256034517,
     "user": {
      "displayName": "Nguyễn Trung Trực",
      "userId": "15396692032786421402"
     },
     "user_tz": -420
    },
    "id": "fhGMVE1I3myd"
   },
   "outputs": [],
   "source": [
    "# 3. Rehape lại dữ liệu cho đúng kích thước như keras yêu cầu\n",
    "X_train = X_train.reshape(X_train.shape[0], 28, 28, 1)\n",
    "X_val = X_val.reshape(X_val.shape[0], 28, 28, 1)\n",
    "X_test = X_test.reshape(X_test.shape[0], 28, 28, 1)"
   ]
  },
  {
   "cell_type": "code",
   "execution_count": 5,
   "metadata": {
    "colab": {
     "base_uri": "https://localhost:8080/"
    },
    "executionInfo": {
     "elapsed": 5,
     "status": "ok",
     "timestamp": 1684256034518,
     "user": {
      "displayName": "Nguyễn Trung Trực",
      "userId": "15396692032786421402"
     },
     "user_tz": -420
    },
    "id": "MI3-lQaF5rkn",
    "outputId": "87a42d8f-efc9-4669-caa7-add66097354a"
   },
   "outputs": [
    {
     "name": "stdout",
     "output_type": "stream",
     "text": [
      "Dữ liệu ban đầu  5\n",
      "Dữ liệu y sau one-hot encoding  [0. 0. 0. 0. 0. 1. 0. 0. 0. 0.]\n"
     ]
    }
   ],
   "source": [
    "# 4. One-hot encoding label (Y)\n",
    "Y_train = np_utils.to_categorical(y_train, 10)\n",
    "Y_val = np_utils.to_categorical(y_val, 10)\n",
    "Y_test = np_utils.to_categorical(y_test, 10)\n",
    "print('Dữ liệu ban đầu ', y_train[0])\n",
    "print('Dữ liệu y sau one-hot encoding ', Y_train[0])"
   ]
  },
  {
   "cell_type": "code",
   "execution_count": 6,
   "metadata": {
    "executionInfo": {
     "elapsed": 596,
     "status": "ok",
     "timestamp": 1684256035110,
     "user": {
      "displayName": "Nguyễn Trung Trực",
      "userId": "15396692032786421402"
     },
     "user_tz": -420
    },
    "id": "xd7KpODa6ixy"
   },
   "outputs": [],
   "source": [
    "# 5. Định nghĩa model\n",
    "model = Sequential()\n"
   ]
  },
  {
   "cell_type": "code",
   "execution_count": 7,
   "metadata": {
    "executionInfo": {
     "elapsed": 3,
     "status": "ok",
     "timestamp": 1684256035111,
     "user": {
      "displayName": "Nguyễn Trung Trực",
      "userId": "15396692032786421402"
     },
     "user_tz": -420
    },
    "id": "Ccyd3jdT7Rcp"
   },
   "outputs": [],
   "source": [
    "# Thêm convolutional layer với 32 kernels, kích thước kernel 3 x 3\n",
    "# dùng hàm sigmoid làm activation và chỉ rõ input_shape cho layer đầu tiên\n",
    "model.add(Conv2D(32, (3, 3), activation = 'sigmoid', input_shape=(28, 28, 1)))\n",
    "\n",
    "# Thêm Convolutional layer\n",
    "model.add(Conv2D(32, (3, 3), activation = 'sigmoid'))\n",
    "\n",
    "# Thêm max pooling layer\n",
    "model.add(MaxPooling2D(pool_size=(2, 2)))\n",
    "\n",
    "# Flatten layer chuyen tu tensor sang vector\n",
    "model.add(Flatten())\n",
    "\n",
    "# Thêm fully connected layers với 128 nodes và dùng hàm sigmoid \n",
    "model.add(Dense(128, activation ='tanh'))\n",
    "\n",
    "# Ouput layer với 10 nodes và dùng hàm softmax function để chuyển sang xác suất \n",
    "model.add(Dense(10, activation = 'softmax'))"
   ]
  },
  {
   "cell_type": "code",
   "execution_count": 8,
   "metadata": {
    "executionInfo": {
     "elapsed": 3,
     "status": "ok",
     "timestamp": 1684256035111,
     "user": {
      "displayName": "Nguyễn Trung Trực",
      "userId": "15396692032786421402"
     },
     "user_tz": -420
    },
    "id": "-Ur80LIRayE0"
   },
   "outputs": [],
   "source": [
    "# 6. Compile model, chỉ rõ hàm loss_function nào được sử dụng, phương thức dùng \n",
    "# để tối ưu hàm loss_function\n",
    "model.compile(loss= 'categorical_crossentropy', optimizer = 'adam', metrics = \n",
    "     ['accuracy'])"
   ]
  },
  {
   "cell_type": "code",
   "execution_count": 9,
   "metadata": {
    "colab": {
     "base_uri": "https://localhost:8080/"
    },
    "executionInfo": {
     "elapsed": 683432,
     "status": "ok",
     "timestamp": 1684256718540,
     "user": {
      "displayName": "Nguyễn Trung Trực",
      "userId": "15396692032786421402"
     },
     "user_tz": -420
    },
    "id": "ga7mnVrqcbSx",
    "outputId": "5c8789f6-48cc-491f-fb8a-fec288adc79b"
   },
   "outputs": [
    {
     "name": "stdout",
     "output_type": "stream",
     "text": [
      "Epoch 1/10\n",
      "1000/1000 [==============================] - 40s 39ms/step - loss: 0.9534 - accuracy: 0.7127 - val_loss: 0.0897 - val_accuracy: 0.9777\n",
      "Epoch 2/10\n",
      "1000/1000 [==============================] - 41s 41ms/step - loss: 0.0776 - accuracy: 0.9780 - val_loss: 0.0638 - val_accuracy: 0.9827\n",
      "Epoch 3/10\n",
      "1000/1000 [==============================] - 39s 39ms/step - loss: 0.0456 - accuracy: 0.9868 - val_loss: 0.0498 - val_accuracy: 0.9854\n",
      "Epoch 4/10\n",
      "1000/1000 [==============================] - 39s 39ms/step - loss: 0.0299 - accuracy: 0.9918 - val_loss: 0.0479 - val_accuracy: 0.9857\n",
      "Epoch 5/10\n",
      "1000/1000 [==============================] - 40s 40ms/step - loss: 0.0215 - accuracy: 0.9938 - val_loss: 0.0479 - val_accuracy: 0.9844\n",
      "Epoch 6/10\n",
      "1000/1000 [==============================] - 42s 42ms/step - loss: 0.0145 - accuracy: 0.9961 - val_loss: 0.0401 - val_accuracy: 0.9881\n",
      "Epoch 7/10\n",
      "1000/1000 [==============================] - 42s 42ms/step - loss: 0.0105 - accuracy: 0.9972 - val_loss: 0.0395 - val_accuracy: 0.9884\n",
      "Epoch 8/10\n",
      "1000/1000 [==============================] - 40s 40ms/step - loss: 0.0080 - accuracy: 0.9977 - val_loss: 0.0436 - val_accuracy: 0.9882\n",
      "Epoch 9/10\n",
      "1000/1000 [==============================] - 40s 40ms/step - loss: 0.0059 - accuracy: 0.9984 - val_loss: 0.0418 - val_accuracy: 0.9876\n",
      "Epoch 10/10\n",
      "1000/1000 [==============================] - 40s 40ms/step - loss: 0.0069 - accuracy: 0.9979 - val_loss: 0.0414 - val_accuracy: 0.9890\n"
     ]
    }
   ],
   "source": [
    "# 7. Thực hiện train model với data\n",
    "H = model.fit(X_train, Y_train, validation_data=(X_val, Y_val),  batch_size=50, epochs=10, verbose=1)"
   ]
  },
  {
   "cell_type": "code",
   "execution_count": 10,
   "metadata": {
    "colab": {
     "base_uri": "https://localhost:8080/",
     "height": 490
    },
    "executionInfo": {
     "elapsed": 23,
     "status": "ok",
     "timestamp": 1684256718540,
     "user": {
      "displayName": "Nguyễn Trung Trực",
      "userId": "15396692032786421402"
     },
     "user_tz": -420
    },
    "id": "VyTYLMi5IpS3",
    "outputId": "df880126-78a3-4a13-e9ed-c28140c0b938"
   },
   "outputs": [
    {
     "data": {
      "text/plain": [
       "<matplotlib.legend.Legend at 0x7fe13c3948e0>"
      ]
     },
     "execution_count": 10,
     "metadata": {},
     "output_type": "execute_result"
    },
    {
     "data": {
      "image/png": "[encoded data removed]",
      "text/plain": [
       "<Figure size 640x480 with 1 Axes>"
      ]
     },
     "metadata": {},
     "output_type": "display_data"
    }
   ],
   "source": [
    "# 8. Vẽ đồ thị loss, accuracy của traning set và validation set\n",
    "fig = plt.figure()\n",
    "numOfEpoch = 10\n",
    "plt.plot(np.arange(0, numOfEpoch), H.history['loss'], label='training loss')\n",
    "plt.plot(np.arange(0, numOfEpoch), H.history['val_loss'], label='validation loss')\n",
    "plt.plot(np.arange(0, numOfEpoch), H.history['accuracy'], label='accuracy')\n",
    "plt.plot(np.arange(0, numOfEpoch), H.history['val_accuracy'], label='validation accuracy')\n",
    "plt.title('Accuracy and Loss')\n",
    "plt.xlabel('Epoch')\n",
    "plt.ylabel('Loss|Accuracy')\n",
    "plt.legend()"
   ]
  },
  {
   "cell_type": "code",
   "execution_count": 11,
   "metadata": {
    "colab": {
     "base_uri": "https://localhost:8080/"
    },
    "executionInfo": {
     "elapsed": 4401,
     "status": "ok",
     "timestamp": 1684256722937,
     "user": {
      "displayName": "Nguyễn Trung Trực",
      "userId": "15396692032786421402"
     },
     "user_tz": -420
    },
    "id": "tYfMyMsFJTOa",
    "outputId": "bbc693d2-93a4-48a6-92de-5c0c7c60a440"
   },
   "outputs": [
    {
     "name": "stdout",
     "output_type": "stream",
     "text": [
      "[0.03641629219055176, 0.9887999892234802]\n"
     ]
    }
   ],
   "source": [
    "# 9. Đánh giá model với dữ liệu test set\n",
    "score = model.evaluate(X_test, Y_test, verbose = 0)\n",
    "print(score)\n"
   ]
  },
  {
   "cell_type": "code",
   "execution_count": 12,
   "metadata": {
    "colab": {
     "base_uri": "https://localhost:8080/",
     "height": 448
    },
    "executionInfo": {
     "elapsed": 19,
     "status": "ok",
     "timestamp": 1684256722937,
     "user": {
      "displayName": "Nguyễn Trung Trực",
      "userId": "15396692032786421402"
     },
     "user_tz": -420
    },
    "id": "AD4Ocmk3J6aI",
    "outputId": "caa56134-85b5-4323-9804-90f55d159455"
   },
   "outputs": [
    {
     "data": {
      "text/plain": [
       "<matplotlib.image.AxesImage at 0x7fe13da9eaf0>"
      ]
     },
     "execution_count": 12,
     "metadata": {},
     "output_type": "execute_result"
    },
    {
     "data": {
      "image/png": "[encoded data removed]",
      "text/plain": [
       "<Figure size 640x480 with 1 Axes>"
      ]
     },
     "metadata": {},
     "output_type": "display_data"
    }
   ],
   "source": [
    "# 10. Dự đoán ảnh\n",
    "plt.imshow(X_test[0].reshape(28, 28), cmap ='gray')\n"
   ]
  }
 ],
 "metadata": {
  "colab": {
   "authorship_tag": "ABX9TyPHQWZI6Fmu9gI7QSwD0B1d",
   "provenance": []
  },
  "kernelspec": {
   "display_name": "Python 3 (ipykernel)",
   "language": "python",
   "name": "python3"
  },
  "language_info": {
   "codemirror_mode": {
    "name": "ipython",
    "version": 3
   },
   "file_extension": ".py",
   "mimetype": "text/x-python",
   "name": "python",
   "nbconvert_exporter": "python",
   "pygments_lexer": "ipython3",
   "version": "3.9.15"
  }
 },
 "nbformat": 4,
 "nbformat_minor": 1
}
